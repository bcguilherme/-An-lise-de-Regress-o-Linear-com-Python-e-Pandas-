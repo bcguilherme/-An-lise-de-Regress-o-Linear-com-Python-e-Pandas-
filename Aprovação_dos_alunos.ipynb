{
  "nbformat": 4,
  "nbformat_minor": 0,
  "metadata": {
    "colab": {
      "provenance": [],
      "authorship_tag": "ABX9TyN6Wk2a6vFq+UsrzrP9iRE1",
      "include_colab_link": true
    },
    "kernelspec": {
      "name": "python3",
      "display_name": "Python 3"
    },
    "language_info": {
      "name": "python"
    }
  },
  "cells": [
    {
      "cell_type": "markdown",
      "metadata": {
        "id": "view-in-github",
        "colab_type": "text"
      },
      "source": [
        "<a href=\"https://colab.research.google.com/github/bcguilherme/aprova-o_alunos/blob/main/Aprova%C3%A7%C3%A3o_dos_alunos.ipynb\" target=\"_parent\"><img src=\"https://colab.research.google.com/assets/colab-badge.svg\" alt=\"Open In Colab\"/></a>"
      ]
    },
    {
      "cell_type": "code",
      "execution_count": null,
      "metadata": {
        "id": "7VpsVtw6jZB8"
      },
      "outputs": [],
      "source": [
        "# Importando as bibliotecas necessárias\n",
        "import pandas as pd\n",
        "import statsmodels.api as sm\n",
        "import seaborn as sns\n",
        "import matplotlib.pyplot as plt\n",
        "\n",
        "# Caminho do arquivo Excel\n",
        "file_path = '/content/C+¦pia de aprovacao_alunos (1).xlsx'\n",
        "\n",
        "# Lendo o arquivo Excel em um DataFrame\n",
        "df = pd.read_excel(file_path)\n",
        "\n",
        "# Exibindo as primeiras linhas do DataFrame para entender a estrutura dos dados\n",
        "df.head()\n",
        "\n",
        "# Obtendo informações sobre o DataFrame, como tipos de dados e valores nulos\n",
        "df.info()\n",
        "\n",
        "# Criando um gráfico de dispersão com uma linha de regressão\n",
        "ax = sns.lmplot(x='ano_2015', y='ano_2016', data=df)\n",
        "ax.fig.set_size_inches(6, 3)\n",
        "ax.fig.suptitle('Reta de Regressão 2015 x 2016')\n",
        "ax.set_xlabels('2015')\n",
        "ax.set_ylabels('2016')\n",
        "ax;\n",
        "\n",
        "# Calculando a matriz de correlação entre as variáveis\n",
        "correlation_matrix = df.corr()\n",
        "\n",
        "# Exibindo a matriz de correlação\n",
        "print(correlation_matrix)\n",
        "\n",
        "# Definindo a variável dependente (y) e a variável independente (x) com uma constante\n",
        "y = df['ano_2016']\n",
        "x = sm.add_constant(df['ano_2015'])\n",
        "\n",
        "# Criando um modelo de regressão linear ordinária (OLS)\n",
        "model = sm.OLS(y, x).fit()\n",
        "\n",
        "# Exibindo um resumo estatístico do modelo de regressão\n",
        "resultado_regressao = model.summary()\n",
        "print(resultado_regressao)\n",
        "\n",
        "# Adicionando uma coluna 'Y_previsto' ao DataFrame com os valores previstos pelo modelo\n",
        "df['Y_previsto'] = model.predict()\n",
        "df.head()\n",
        "\n",
        "# Calculando os resíduos (diferença entre os valores reais e os previstos)\n",
        "df['residuo'] = df['ano_2016'] - df['Y_previsto']\n",
        "\n",
        "# Exibindo as primeiras linhas do DataFrame com os resíduos\n",
        "print(df.head())\n"
      ]
    },
    {
      "cell_type": "code",
      "source": [],
      "metadata": {
        "id": "uRkC23UqjdZb"
      },
      "execution_count": null,
      "outputs": []
    }
  ]
}